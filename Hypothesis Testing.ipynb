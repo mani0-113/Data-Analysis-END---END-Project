{
 "cells": [
  {
   "cell_type": "code",
   "execution_count": 8,
   "id": "cb52bb25",
   "metadata": {},
   "outputs": [],
   "source": [
    "import scipy.stats as st"
   ]
  },
  {
   "cell_type": "markdown",
   "id": "87c511c7",
   "metadata": {},
   "source": [
    "## Critical Value Approach"
   ]
  },
  {
   "cell_type": "markdown",
   "id": "9f53aaba",
   "metadata": {},
   "source": [
    "1. Formualte Hypothesis\n",
    "2. Find the critical Value\n",
    "3. Find the Statistic Value \n",
    "4. Interpret the Results"
   ]
  },
  {
   "cell_type": "code",
   "execution_count": 12,
   "id": "8fa018ed",
   "metadata": {},
   "outputs": [],
   "source": [
    "def two_tail_Z_test(pop_mean,samp_mean,pop_std,n,cl):\n",
    "    Critical_value = st.norm.ppf((1+cl)/2)\n",
    "    stat = (samp_mean-pop_mean) / (pop_std/(n**0.5))\n",
    "    \n",
    "    if np.abs(stat) > np.abs(Critical_value):\n",
    "        print(\"Reject Null Hypothesis\")\n",
    "    else:\n",
    "        print(\"Failed to Reject Null Hypothesis\")"
   ]
  },
  {
   "cell_type": "code",
   "execution_count": 13,
   "id": "b8b6b370",
   "metadata": {},
   "outputs": [
    {
     "name": "stdout",
     "output_type": "stream",
     "text": [
      "Reject Null Hypothesis\n"
     ]
    }
   ],
   "source": [
    "two_tail_Z_test(500,472,50,50,0.95)"
   ]
  },
  {
   "cell_type": "code",
   "execution_count": 14,
   "id": "b3fa3be6",
   "metadata": {},
   "outputs": [],
   "source": [
    "def two_tail_t_test(pop_mean,samp_mean,samp_std,n,cl):\n",
    "    Critical_value = st.t.ppf((1+cl)/2,df = n-1)\n",
    "    stat = (samp_mean-pop_mean) / (samp_std/(n**0.5))\n",
    "    \n",
    "    if np.abs(stat) > np.abs(Critical_value):\n",
    "        print(\"Reject Null Hypothesis\")\n",
    "    else:\n",
    "        print(\"Failed to Reject Null Hypothesis\")"
   ]
  },
  {
   "cell_type": "code",
   "execution_count": null,
   "id": "7f75533c",
   "metadata": {},
   "outputs": [],
   "source": [
    "def left_tail_Z_test(pop_mean,samp_mean,pop_std,n,cl):\n",
    "    Critical_value = st.norm.ppf(cl)\n",
    "    stat = (samp_mean-pop_mean) / (pop_std/(n**0.5))\n",
    "    \n",
    "    if stat < Critical_value:\n",
    "        print(\"Reject Null Hypothesis\")\n",
    "    else:\n",
    "        print(\"Failed to Reject Null Hypothesis\")"
   ]
  },
  {
   "cell_type": "code",
   "execution_count": null,
   "id": "3f88246f",
   "metadata": {},
   "outputs": [],
   "source": [
    "def right_tail_Z_test(pop_mean,samp_mean,pop_std,n,cl):\n",
    "    Critical_value = st.norm.ppf(cl)\n",
    "    stat = (samp_mean-pop_mean) / (pop_std/(n**0.5))\n",
    "    \n",
    "    if stat > Critical_value:\n",
    "        print(\"Reject Null Hypothesis\")\n",
    "    else:\n",
    "        print(\"Failed to Reject Null Hypothesis\")"
   ]
  },
  {
   "cell_type": "code",
   "execution_count": null,
   "id": "0c0eaffe",
   "metadata": {},
   "outputs": [],
   "source": [
    "def left_tail_t_test(pop_mean,samp_mean,samp_std,n,cl):\n",
    "    Critical_value = st.t.ppf(cl,df = n-1)\n",
    "    stat = (samp_mean-pop_mean) / (samp_std/(n**0.5))\n",
    "    \n",
    "    if stat < Critical_value:\n",
    "        print(\"Reject Null Hypothesis\")\n",
    "    else:\n",
    "        print(\"Failed to Reject Null Hypothesis\")"
   ]
  },
  {
   "cell_type": "code",
   "execution_count": null,
   "id": "1ef92eac",
   "metadata": {},
   "outputs": [],
   "source": [
    "def right_tail_t_test(pop_mean,samp_mean,samp_std,n,cl):\n",
    "    Critical_value = st.t.ppf(cl,df = n-1)\n",
    "    stat = (samp_mean-pop_mean) / (samp_std/(n**0.5))\n",
    "    \n",
    "    if stat > Critical_value:\n",
    "        print(\"Reject Null Hypothesis\")\n",
    "    else:\n",
    "        print(\"Failed to Reject Null Hypothesis\")"
   ]
  },
  {
   "cell_type": "markdown",
   "id": "85a0c174",
   "metadata": {},
   "source": [
    "## P_Value Approach"
   ]
  },
  {
   "cell_type": "markdown",
   "id": "ab8e8845",
   "metadata": {},
   "source": [
    "1. Formulate Hypotheisis\n",
    "2. Define the Significance  Level\n",
    "3. Find the Statistic Value\n",
    "4. calculte the P value based on statistic Value\n",
    "5. Interepret the result"
   ]
  },
  {
   "cell_type": "code",
   "execution_count": 26,
   "id": "df028dd8",
   "metadata": {},
   "outputs": [],
   "source": [
    "def two_tail_Z_test(pop_mean,samp_mean,pop_std,n,cl):\n",
    "    '''P value Approach'''\n",
    "    stat = (samp_mean-pop_mean) / (pop_std/(n**0.5))\n",
    "    p_value = 2*(1-st.norm.cdf(np.abs(stat)))\n",
    "    alpha = 1-cl\n",
    "    \n",
    "    if p_value < alpha:\n",
    "        print(\"Reject Null Hypothesis\")\n",
    "        print('*'*50)\n",
    "            \n",
    "        if (p_value < 0.05)  and  (p_value >= 0.01):  #(0.01,0.05)\n",
    "            print('Moderate Evidence Aginst Null Hypothesis')\n",
    "            \n",
    "        elif (p_value < 0.01)  and  (p_value >= 0.001):  #(0.001,0.01)\n",
    "            print('Strong Evidence Aginst Null Hypothesis')\n",
    "            \n",
    "        elif   (p_value < 0.001) :\n",
    "            print('Very Strong Evidence Aginst Null Hypothesis')\n",
    "        \n",
    "        \n",
    "    else:\n",
    "        print(\"Failed to Reject Null Hypothesis\")"
   ]
  },
  {
   "cell_type": "code",
   "execution_count": 27,
   "id": "f1a96658",
   "metadata": {},
   "outputs": [
    {
     "name": "stdout",
     "output_type": "stream",
     "text": [
      "Reject Null Hypothesis\n",
      "**************************************************\n",
      "Very Strong Evidence Aginst Null Hypothesis\n"
     ]
    }
   ],
   "source": [
    "two_tail_Z_test(500,472,50,50,0.95)"
   ]
  },
  {
   "cell_type": "code",
   "execution_count": 37,
   "id": "8d3ecbe9",
   "metadata": {},
   "outputs": [],
   "source": [
    "def One_tail_Z_test(pop_mean,samp_mean,pop_std,n,cl):\n",
    "        \n",
    "    stat = (samp_mean-pop_mean) / (pop_std/(n**0.5))\n",
    "    p_value = 1-st.norm.cdf(np.abs(stat))\n",
    "    alpha = 1-cl\n",
    "    print('The P value',p_value)\n",
    "    if p_value < alpha:\n",
    "        print(\"Reject Null Hypothesis\")\n",
    "        print('*'*50)\n",
    "            \n",
    "        if (p_value < 0.05)  and  (p_value >= 0.01):  #(0.01,0.05)\n",
    "            print('Moderate Evidence Aginst Null Hypothesis')\n",
    "            \n",
    "        elif (p_value < 0.01)  and  (p_value >= 0.001):  #(0.001,0.01)\n",
    "            print('Strong Evidence Aginst Null Hypothesis')\n",
    "            \n",
    "        elif   (p_value < 0.001) :\n",
    "            print('Very Strong Evidence Aginst Null Hypothesis')\n",
    "        \n",
    "    else:\n",
    "        print(\"Failed to Reject Null Hypothesis\")"
   ]
  },
  {
   "cell_type": "code",
   "execution_count": null,
   "id": "69801530",
   "metadata": {},
   "outputs": [],
   "source": [
    "def two_tail_t_test(pop_mean,samp_mean,samp_std,n,cl):\n",
    "    '''P value Approach'''\n",
    "    stat = (samp_mean-pop_mean) / (samp_std/(n**0.5))\n",
    "    p_value = 2*(1-st,t.cdf(np.abs(stat),df = n-1))\n",
    "    alpha = 1-cl\n",
    "    \n",
    "    if p_value < alpha:\n",
    "        print(\"Reject Null Hypothesis\")\n",
    "        print('*'*50)\n",
    "            \n",
    "        if (p_value < 0.05)  and  (p_value >= 0.01):  #(0.01,0.05)\n",
    "            print('Moderate Evidence Aginst Null Hypothesis')\n",
    "            \n",
    "        elif (p_value < 0.01)  and  (p_value >= 0.001):  #(0.001,0.01)\n",
    "            print('Strong Evidence Aginst Null Hypothesis')\n",
    "            \n",
    "        elif   (p_value < 0.001) :\n",
    "            print('Very Strong Evidence Aginst Null Hypothesis')\n",
    "        \n",
    "        \n",
    "    else:\n",
    "        print(\"Failed to Reject Null Hypothesis\")"
   ]
  },
  {
   "cell_type": "code",
   "execution_count": 35,
   "id": "5f1bef21",
   "metadata": {},
   "outputs": [],
   "source": [
    "def One_tail_t_test(pop_mean,samp_mean,samp_std,n,cl):\n",
    "    '''P value Approach'''\n",
    "    stat = (samp_mean-pop_mean) / (samp_std/(n**0.5))\n",
    "    p_value = 1-st,t.cdf(np.abs(stat),df = n-1)\n",
    "    alpha = 1-cl\n",
    "    \n",
    "    if p_value < alpha:\n",
    "        print(\"Reject Null Hypothesis\")\n",
    "        print('*'*50)\n",
    "            \n",
    "        if (p_value < 0.05)  and  (p_value >= 0.01):  #(0.01,0.05)\n",
    "            print('Moderate Evidence Aginst Null Hypothesis')\n",
    "            \n",
    "        elif (p_value < 0.01)  and  (p_value >= 0.001):  #(0.001,0.01)\n",
    "            print('Strong Evidence Aginst Null Hypothesis')\n",
    "            \n",
    "        elif   (p_value < 0.001) :\n",
    "            print('Very Strong Evidence Aginst Null Hypothesis')\n",
    "        \n",
    "        \n",
    "    else:\n",
    "        print(\"Failed to Reject Null Hypothesis\")"
   ]
  },
  {
   "cell_type": "markdown",
   "id": "a104c8f7",
   "metadata": {},
   "source": [
    " coaching institute claims that the students’ mean scores in their institute are greater than the 82 marks with a standard deviation of 20. A sample of 81 students is selected, and the mean score is 90 marks. At 95% confidence level, is there enough evidence to support the claim?"
   ]
  },
  {
   "cell_type": "code",
   "execution_count": 38,
   "id": "45e8dab0",
   "metadata": {},
   "outputs": [
    {
     "name": "stdout",
     "output_type": "stream",
     "text": [
      "The P value 0.00015910859015755285\n",
      "Reject Null Hypothesis\n",
      "**************************************************\n",
      "Very Strong Evidence Aginst Null Hypothesis\n"
     ]
    }
   ],
   "source": [
    "One_tail_Z_test(82,90,20,81,0.95)"
   ]
  },
  {
   "cell_type": "markdown",
   "id": "fb8afecd",
   "metadata": {},
   "source": [
    "## Chi Square Test"
   ]
  },
  {
   "cell_type": "markdown",
   "id": "c15f0918",
   "metadata": {},
   "source": [
    "### Goodness of fit"
   ]
  },
  {
   "cell_type": "code",
   "execution_count": 2,
   "id": "afeba75d",
   "metadata": {},
   "outputs": [],
   "source": [
    "import scipy.stats as st"
   ]
  },
  {
   "cell_type": "code",
   "execution_count": 1,
   "id": "d750cf04",
   "metadata": {},
   "outputs": [],
   "source": [
    "obs = [23,16,14,19,28]\n",
    "exp = [20,20,20,20,20]"
   ]
  },
  {
   "cell_type": "code",
   "execution_count": 6,
   "id": "7b320acd",
   "metadata": {},
   "outputs": [
    {
     "name": "stdout",
     "output_type": "stream",
     "text": [
      "Failed to reject null hypothesis i.e accept the null hypothesis\n"
     ]
    }
   ],
   "source": [
    "#Critical Value Approach\n",
    "critical  = st.chi2.ppf(0.95,df = 4)\n",
    "stat,p = st.chisquare(f_obs=obs,f_exp=exp,ddof=4)\n",
    "\n",
    "if stat > critical:\n",
    "    print(\"reject null hypothesis\")\n",
    "else:\n",
    "    print(\"Failed to reject null hypothesis i.e accept the null hypothesis\")"
   ]
  },
  {
   "cell_type": "code",
   "execution_count": 7,
   "id": "359142a0",
   "metadata": {},
   "outputs": [
    {
     "name": "stdout",
     "output_type": "stream",
     "text": [
      "Failed to reject null hypothesis i.e accept the null hypothesis\n"
     ]
    }
   ],
   "source": [
    "# P Value approach\n",
    "stat,p = st.chisquare(f_obs=obs,f_exp=exp,ddof=4)\n",
    "cl = 0.95\n",
    "alpha = 1-cl\n",
    "\n",
    "if p < alpha:\n",
    "    print(\"reject null hypothesis\")\n",
    "else:\n",
    "    print(\"Failed to reject null hypothesis i.e accept the null hypothesis\")"
   ]
  },
  {
   "cell_type": "markdown",
   "id": "e78adc54",
   "metadata": {},
   "source": [
    "### Test of Independance"
   ]
  },
  {
   "cell_type": "code",
   "execution_count": 12,
   "id": "344d09a6",
   "metadata": {},
   "outputs": [
    {
     "data": {
      "text/plain": [
       "987"
      ]
     },
     "execution_count": 12,
     "metadata": {},
     "output_type": "execute_result"
    }
   ],
   "source": [
    "sum(exp)"
   ]
  },
  {
   "cell_type": "code",
   "execution_count": 20,
   "id": "61c8c7ea",
   "metadata": {},
   "outputs": [],
   "source": [
    "obs = [120,200,90,140,140,120,180]\n",
    "exp = [141,141,144,141,141,141,141]"
   ]
  },
  {
   "cell_type": "code",
   "execution_count": 23,
   "id": "d5b1968b",
   "metadata": {},
   "outputs": [
    {
     "name": "stdout",
     "output_type": "stream",
     "text": [
      "reject null hypothesis i.e Accidents and days are dependant\n"
     ]
    }
   ],
   "source": [
    "#Critical Value Approach\n",
    "critical  = st.chi2.ppf(0.95,df = 6)\n",
    "stat,p = st.chisquare(f_obs=obs,f_exp=exp,ddof=6)\n",
    "\n",
    "if stat > critical:\n",
    "    print(\"reject null hypothesis i.e Accidents and days are dependant\")\n",
    "else:\n",
    "    print(\"Failed to reject null hypothesis i.e accept the null hypothesis i.e i.e Accidents and days are Independant\")"
   ]
  },
  {
   "cell_type": "code",
   "execution_count": 24,
   "id": "a421e53b",
   "metadata": {},
   "outputs": [
    {
     "name": "stdout",
     "output_type": "stream",
     "text": [
      "Failed to reject null hypothesis i.e accept the null hypothesis i.e Accidents and days are Independant\n"
     ]
    }
   ],
   "source": [
    "# P Value approach\n",
    "stat,p = st.chisquare(f_obs=obs,f_exp=exp,ddof=6)\n",
    "cl = 0.95\n",
    "alpha = 1-cl\n",
    "\n",
    "if p < alpha:\n",
    "    print(\"reject null hypothesis i.e Accidents and days are dependant\")\n",
    "else:\n",
    "    print(\"Failed to reject null hypothesis i.e accept the null hypothesis i.e Accidents and days are Independant\")"
   ]
  },
  {
   "cell_type": "code",
   "execution_count": 15,
   "id": "b3843a7a",
   "metadata": {},
   "outputs": [],
   "source": [
    "import pandas as pd"
   ]
  },
  {
   "cell_type": "code",
   "execution_count": 16,
   "id": "8fee5cea",
   "metadata": {},
   "outputs": [],
   "source": [
    "df = pd.read_csv(r\"D:\\Datasets\\loandata.csv\")"
   ]
  },
  {
   "cell_type": "code",
   "execution_count": 17,
   "id": "215cdf57",
   "metadata": {},
   "outputs": [
    {
     "data": {
      "text/html": [
       "<div>\n",
       "<style scoped>\n",
       "    .dataframe tbody tr th:only-of-type {\n",
       "        vertical-align: middle;\n",
       "    }\n",
       "\n",
       "    .dataframe tbody tr th {\n",
       "        vertical-align: top;\n",
       "    }\n",
       "\n",
       "    .dataframe thead th {\n",
       "        text-align: right;\n",
       "    }\n",
       "</style>\n",
       "<table border=\"1\" class=\"dataframe\">\n",
       "  <thead>\n",
       "    <tr style=\"text-align: right;\">\n",
       "      <th></th>\n",
       "      <th>Loan_ID</th>\n",
       "      <th>Gender</th>\n",
       "      <th>Married</th>\n",
       "      <th>Dependents</th>\n",
       "      <th>Education</th>\n",
       "      <th>Self_Employed</th>\n",
       "      <th>ApplicantIncome</th>\n",
       "      <th>CoapplicantIncome</th>\n",
       "      <th>LoanAmount</th>\n",
       "      <th>Loan_Amount_Term</th>\n",
       "      <th>Credit_History</th>\n",
       "      <th>Property_Area</th>\n",
       "      <th>Loan_Status</th>\n",
       "    </tr>\n",
       "  </thead>\n",
       "  <tbody>\n",
       "    <tr>\n",
       "      <th>0</th>\n",
       "      <td>LP001722</td>\n",
       "      <td>Male</td>\n",
       "      <td>Yes</td>\n",
       "      <td>0</td>\n",
       "      <td>Graduate</td>\n",
       "      <td>No</td>\n",
       "      <td>150</td>\n",
       "      <td>1800.0</td>\n",
       "      <td>135.0</td>\n",
       "      <td>360.0</td>\n",
       "      <td>1.0</td>\n",
       "      <td>Rural</td>\n",
       "      <td>N</td>\n",
       "    </tr>\n",
       "    <tr>\n",
       "      <th>1</th>\n",
       "      <td>LP002502</td>\n",
       "      <td>Female</td>\n",
       "      <td>Yes</td>\n",
       "      <td>2</td>\n",
       "      <td>Not Graduate</td>\n",
       "      <td>NaN</td>\n",
       "      <td>210</td>\n",
       "      <td>2917.0</td>\n",
       "      <td>98.0</td>\n",
       "      <td>360.0</td>\n",
       "      <td>1.0</td>\n",
       "      <td>Semiurban</td>\n",
       "      <td>Y</td>\n",
       "    </tr>\n",
       "    <tr>\n",
       "      <th>2</th>\n",
       "      <td>LP002949</td>\n",
       "      <td>Female</td>\n",
       "      <td>No</td>\n",
       "      <td>3+</td>\n",
       "      <td>Graduate</td>\n",
       "      <td>NaN</td>\n",
       "      <td>416</td>\n",
       "      <td>41667.0</td>\n",
       "      <td>350.0</td>\n",
       "      <td>180.0</td>\n",
       "      <td>NaN</td>\n",
       "      <td>Urban</td>\n",
       "      <td>N</td>\n",
       "    </tr>\n",
       "    <tr>\n",
       "      <th>3</th>\n",
       "      <td>LP002603</td>\n",
       "      <td>Female</td>\n",
       "      <td>No</td>\n",
       "      <td>0</td>\n",
       "      <td>Graduate</td>\n",
       "      <td>No</td>\n",
       "      <td>645</td>\n",
       "      <td>3683.0</td>\n",
       "      <td>113.0</td>\n",
       "      <td>480.0</td>\n",
       "      <td>1.0</td>\n",
       "      <td>Rural</td>\n",
       "      <td>Y</td>\n",
       "    </tr>\n",
       "    <tr>\n",
       "      <th>4</th>\n",
       "      <td>LP001644</td>\n",
       "      <td>NaN</td>\n",
       "      <td>Yes</td>\n",
       "      <td>0</td>\n",
       "      <td>Graduate</td>\n",
       "      <td>Yes</td>\n",
       "      <td>674</td>\n",
       "      <td>5296.0</td>\n",
       "      <td>168.0</td>\n",
       "      <td>360.0</td>\n",
       "      <td>1.0</td>\n",
       "      <td>Rural</td>\n",
       "      <td>Y</td>\n",
       "    </tr>\n",
       "  </tbody>\n",
       "</table>\n",
       "</div>"
      ],
      "text/plain": [
       "    Loan_ID  Gender Married Dependents     Education Self_Employed  \\\n",
       "0  LP001722    Male     Yes          0      Graduate            No   \n",
       "1  LP002502  Female     Yes          2  Not Graduate           NaN   \n",
       "2  LP002949  Female      No         3+      Graduate           NaN   \n",
       "3  LP002603  Female      No          0      Graduate            No   \n",
       "4  LP001644     NaN     Yes          0      Graduate           Yes   \n",
       "\n",
       "   ApplicantIncome  CoapplicantIncome  LoanAmount  Loan_Amount_Term  \\\n",
       "0              150             1800.0       135.0             360.0   \n",
       "1              210             2917.0        98.0             360.0   \n",
       "2              416            41667.0       350.0             180.0   \n",
       "3              645             3683.0       113.0             480.0   \n",
       "4              674             5296.0       168.0             360.0   \n",
       "\n",
       "   Credit_History Property_Area Loan_Status  \n",
       "0             1.0         Rural           N  \n",
       "1             1.0     Semiurban           Y  \n",
       "2             NaN         Urban           N  \n",
       "3             1.0         Rural           Y  \n",
       "4             1.0         Rural           Y  "
      ]
     },
     "execution_count": 17,
     "metadata": {},
     "output_type": "execute_result"
    }
   ],
   "source": [
    "df.head()"
   ]
  },
  {
   "cell_type": "code",
   "execution_count": 18,
   "id": "5f2f5d7e",
   "metadata": {},
   "outputs": [],
   "source": [
    "df['Gender'].fillna(df['Gender'].mode()[0],inplace = True)"
   ]
  },
  {
   "cell_type": "code",
   "execution_count": 19,
   "id": "937dfc52",
   "metadata": {},
   "outputs": [
    {
     "data": {
      "text/html": [
       "<div>\n",
       "<style scoped>\n",
       "    .dataframe tbody tr th:only-of-type {\n",
       "        vertical-align: middle;\n",
       "    }\n",
       "\n",
       "    .dataframe tbody tr th {\n",
       "        vertical-align: top;\n",
       "    }\n",
       "\n",
       "    .dataframe thead th {\n",
       "        text-align: right;\n",
       "    }\n",
       "</style>\n",
       "<table border=\"1\" class=\"dataframe\">\n",
       "  <thead>\n",
       "    <tr style=\"text-align: right;\">\n",
       "      <th>Loan_Status</th>\n",
       "      <th>N</th>\n",
       "      <th>Y</th>\n",
       "    </tr>\n",
       "    <tr>\n",
       "      <th>Gender</th>\n",
       "      <th></th>\n",
       "      <th></th>\n",
       "    </tr>\n",
       "  </thead>\n",
       "  <tbody>\n",
       "    <tr>\n",
       "      <th>Female</th>\n",
       "      <td>37</td>\n",
       "      <td>75</td>\n",
       "    </tr>\n",
       "    <tr>\n",
       "      <th>Male</th>\n",
       "      <td>155</td>\n",
       "      <td>347</td>\n",
       "    </tr>\n",
       "  </tbody>\n",
       "</table>\n",
       "</div>"
      ],
      "text/plain": [
       "Loan_Status    N    Y\n",
       "Gender               \n",
       "Female        37   75\n",
       "Male         155  347"
      ]
     },
     "execution_count": 19,
     "metadata": {},
     "output_type": "execute_result"
    }
   ],
   "source": [
    "table = pd.crosstab(df['Gender'],df['Loan_Status'])\n",
    "table"
   ]
  },
  {
   "cell_type": "code",
   "execution_count": 20,
   "id": "747049c4",
   "metadata": {},
   "outputs": [],
   "source": [
    "import scipy.stats as st"
   ]
  },
  {
   "cell_type": "code",
   "execution_count": 21,
   "id": "2a8a9f4d",
   "metadata": {},
   "outputs": [
    {
     "name": "stdout",
     "output_type": "stream",
     "text": [
      "Accept the Null hypothesis i.e variables are Independant\n"
     ]
    }
   ],
   "source": [
    "stat,p,df,e = st.chi2_contingency(table)\n",
    "cl = 0.95\n",
    "alpha = 1-cl\n",
    "if p < alpha:\n",
    "    print(\"Reject the Null hypothesis i.e variables are dependant\")\n",
    "else:\n",
    "    print(\"Accept the Null hypothesis i.e variables are Independant\")"
   ]
  },
  {
   "cell_type": "code",
   "execution_count": 7,
   "id": "f97009d4",
   "metadata": {},
   "outputs": [
    {
     "data": {
      "text/plain": [
       "0.043099621293573545"
      ]
     },
     "execution_count": 7,
     "metadata": {},
     "output_type": "execute_result"
    }
   ],
   "source": [
    "p"
   ]
  },
  {
   "cell_type": "code",
   "execution_count": 14,
   "id": "605fb5dc",
   "metadata": {},
   "outputs": [
    {
     "data": {
      "text/plain": [
       "0"
      ]
     },
     "execution_count": 14,
     "metadata": {},
     "output_type": "execute_result"
    }
   ],
   "source": [
    "df['Education'].isna().sum()"
   ]
  },
  {
   "cell_type": "markdown",
   "id": "48c4aea6",
   "metadata": {},
   "source": [
    "## Anova Test"
   ]
  },
  {
   "attachments": {
    "image.png": {
     "image/png": "[encoded data removed]"
    }
   },
   "cell_type": "markdown",
   "id": "74033178",
   "metadata": {},
   "source": [
    "![image.png](attachment:image.png)"
   ]
  },
  {
   "cell_type": "code",
   "execution_count": 8,
   "id": "6b8c70c5",
   "metadata": {},
   "outputs": [],
   "source": [
    "low = [10,9,6,7]\n",
    "medium = [8,4,6,7]\n",
    "loud = [4,3,6,4]"
   ]
  },
  {
   "cell_type": "code",
   "execution_count": 9,
   "id": "1ea433c2",
   "metadata": {},
   "outputs": [],
   "source": [
    "import scipy.stats as st"
   ]
  },
  {
   "cell_type": "code",
   "execution_count": 10,
   "id": "62b6e7bf",
   "metadata": {},
   "outputs": [
    {
     "name": "stdout",
     "output_type": "stream",
     "text": [
      "Reject Null Hypothesis i.e There is relationship between variables\n"
     ]
    }
   ],
   "source": [
    "stat,pvalue = st.f_oneway(low,medium,loud)\n",
    "alpha = 0.05\n",
    "\n",
    "if pvalue < alpha:\n",
    "    print(\"Reject Null Hypothesis i.e There is relationship between variables\")\n",
    "else:\n",
    "    print(\"Aceept  Null Hypothesis i.e There is  No relationship between variables\")"
   ]
  },
  {
   "cell_type": "code",
   "execution_count": 21,
   "id": "bad5e29f",
   "metadata": {},
   "outputs": [],
   "source": [
    "import pandas as pd"
   ]
  },
  {
   "cell_type": "code",
   "execution_count": 22,
   "id": "1a78815b",
   "metadata": {},
   "outputs": [],
   "source": [
    "df = pd.read_csv(r\"C:\\Users\\DELL\\Downloads\\marks.csv\")"
   ]
  },
  {
   "cell_type": "code",
   "execution_count": 23,
   "id": "afc63d60",
   "metadata": {},
   "outputs": [],
   "source": [
    "df.drop('Unnamed: 0',axis = 1,inplace = True)"
   ]
  },
  {
   "cell_type": "code",
   "execution_count": 24,
   "id": "770d54f6",
   "metadata": {},
   "outputs": [
    {
     "data": {
      "text/html": [
       "<div>\n",
       "<style scoped>\n",
       "    .dataframe tbody tr th:only-of-type {\n",
       "        vertical-align: middle;\n",
       "    }\n",
       "\n",
       "    .dataframe tbody tr th {\n",
       "        vertical-align: top;\n",
       "    }\n",
       "\n",
       "    .dataframe thead th {\n",
       "        text-align: right;\n",
       "    }\n",
       "</style>\n",
       "<table border=\"1\" class=\"dataframe\">\n",
       "  <thead>\n",
       "    <tr style=\"text-align: right;\">\n",
       "      <th></th>\n",
       "      <th>Gender</th>\n",
       "      <th>Noise</th>\n",
       "      <th>Score</th>\n",
       "    </tr>\n",
       "  </thead>\n",
       "  <tbody>\n",
       "    <tr>\n",
       "      <th>0</th>\n",
       "      <td>Male</td>\n",
       "      <td>Low</td>\n",
       "      <td>10</td>\n",
       "    </tr>\n",
       "    <tr>\n",
       "      <th>1</th>\n",
       "      <td>Male</td>\n",
       "      <td>Medium</td>\n",
       "      <td>7</td>\n",
       "    </tr>\n",
       "    <tr>\n",
       "      <th>2</th>\n",
       "      <td>Male</td>\n",
       "      <td>Loud</td>\n",
       "      <td>4</td>\n",
       "    </tr>\n",
       "    <tr>\n",
       "      <th>3</th>\n",
       "      <td>Male</td>\n",
       "      <td>Low</td>\n",
       "      <td>12</td>\n",
       "    </tr>\n",
       "    <tr>\n",
       "      <th>4</th>\n",
       "      <td>Male</td>\n",
       "      <td>Medium</td>\n",
       "      <td>9</td>\n",
       "    </tr>\n",
       "  </tbody>\n",
       "</table>\n",
       "</div>"
      ],
      "text/plain": [
       "  Gender   Noise  Score\n",
       "0   Male     Low     10\n",
       "1   Male  Medium      7\n",
       "2   Male    Loud      4\n",
       "3   Male     Low     12\n",
       "4   Male  Medium      9"
      ]
     },
     "execution_count": 24,
     "metadata": {},
     "output_type": "execute_result"
    }
   ],
   "source": [
    "df.head()"
   ]
  },
  {
   "cell_type": "code",
   "execution_count": 25,
   "id": "a64ef7e6",
   "metadata": {},
   "outputs": [],
   "source": [
    "Male = df[df['Gender'] == 'Male']['Score']\n",
    "Female = df[df['Gender'] == 'Female']['Score']"
   ]
  },
  {
   "cell_type": "code",
   "execution_count": 28,
   "id": "cbce14c6",
   "metadata": {},
   "outputs": [
    {
     "name": "stdout",
     "output_type": "stream",
     "text": [
      "Aceept  Null Hypothesis i.e There is  No relationship between variables\n"
     ]
    }
   ],
   "source": [
    "stat,pvalue = st.f_oneway(Male,Female)\n",
    "alpha = 0.05\n",
    "\n",
    "if pvalue < alpha:\n",
    "    print(\"Reject Null Hypothesis i.e There is relationship between variables\")\n",
    "else:\n",
    "    print(\"Aceept  Null Hypothesis i.e There is  No relationship between variables\")"
   ]
  },
  {
   "cell_type": "code",
   "execution_count": 32,
   "id": "560db86a",
   "metadata": {},
   "outputs": [],
   "source": [
    "Low = df[df['Noise'] == 'Low']['Score']\n",
    "Medium = df[df['Noise'] == 'Medium']['Score']\n",
    "Loud = df[df['Noise'] == 'Loud']['Score']"
   ]
  },
  {
   "cell_type": "code",
   "execution_count": 33,
   "id": "f00e340a",
   "metadata": {},
   "outputs": [
    {
     "name": "stdout",
     "output_type": "stream",
     "text": [
      "Reject Null Hypothesis i.e There is relationship between variables\n"
     ]
    }
   ],
   "source": [
    "stat,pvalue = st.f_oneway(Low,Medium,Loud)\n",
    "alpha = 0.05\n",
    "\n",
    "if pvalue < alpha:\n",
    "    print(\"Reject Null Hypothesis i.e There is relationship between variables\")\n",
    "else:\n",
    "    print(\"Aceept  Null Hypothesis i.e There is  No relationship between variables\")"
   ]
  },
  {
   "cell_type": "code",
   "execution_count": 34,
   "id": "3d81dc57",
   "metadata": {},
   "outputs": [
    {
     "data": {
      "text/html": [
       "<div>\n",
       "<style scoped>\n",
       "    .dataframe tbody tr th:only-of-type {\n",
       "        vertical-align: middle;\n",
       "    }\n",
       "\n",
       "    .dataframe tbody tr th {\n",
       "        vertical-align: top;\n",
       "    }\n",
       "\n",
       "    .dataframe thead th {\n",
       "        text-align: right;\n",
       "    }\n",
       "</style>\n",
       "<table border=\"1\" class=\"dataframe\">\n",
       "  <thead>\n",
       "    <tr style=\"text-align: right;\">\n",
       "      <th></th>\n",
       "      <th>Gender</th>\n",
       "      <th>Noise</th>\n",
       "      <th>Score</th>\n",
       "    </tr>\n",
       "  </thead>\n",
       "  <tbody>\n",
       "    <tr>\n",
       "      <th>0</th>\n",
       "      <td>Male</td>\n",
       "      <td>Low</td>\n",
       "      <td>10</td>\n",
       "    </tr>\n",
       "    <tr>\n",
       "      <th>1</th>\n",
       "      <td>Male</td>\n",
       "      <td>Medium</td>\n",
       "      <td>7</td>\n",
       "    </tr>\n",
       "    <tr>\n",
       "      <th>2</th>\n",
       "      <td>Male</td>\n",
       "      <td>Loud</td>\n",
       "      <td>4</td>\n",
       "    </tr>\n",
       "    <tr>\n",
       "      <th>3</th>\n",
       "      <td>Male</td>\n",
       "      <td>Low</td>\n",
       "      <td>12</td>\n",
       "    </tr>\n",
       "    <tr>\n",
       "      <th>4</th>\n",
       "      <td>Male</td>\n",
       "      <td>Medium</td>\n",
       "      <td>9</td>\n",
       "    </tr>\n",
       "  </tbody>\n",
       "</table>\n",
       "</div>"
      ],
      "text/plain": [
       "  Gender   Noise  Score\n",
       "0   Male     Low     10\n",
       "1   Male  Medium      7\n",
       "2   Male    Loud      4\n",
       "3   Male     Low     12\n",
       "4   Male  Medium      9"
      ]
     },
     "execution_count": 34,
     "metadata": {},
     "output_type": "execute_result"
    }
   ],
   "source": [
    "df.head()"
   ]
  },
  {
   "cell_type": "markdown",
   "id": "ea1f6b25",
   "metadata": {},
   "source": [
    "### Two Way Anova"
   ]
  },
  {
   "cell_type": "code",
   "execution_count": 36,
   "id": "8119b681",
   "metadata": {},
   "outputs": [],
   "source": [
    "import statsmodels.api as sm\n",
    "from statsmodels.formula.api import ols"
   ]
  },
  {
   "cell_type": "markdown",
   "id": "fe25c342",
   "metadata": {},
   "source": [
    "ols('Dependant ~ C(Independant) * C(Independant)')"
   ]
  },
  {
   "cell_type": "code",
   "execution_count": 39,
   "id": "851ddd73",
   "metadata": {},
   "outputs": [
    {
     "data": {
      "text/html": [
       "<div>\n",
       "<style scoped>\n",
       "    .dataframe tbody tr th:only-of-type {\n",
       "        vertical-align: middle;\n",
       "    }\n",
       "\n",
       "    .dataframe tbody tr th {\n",
       "        vertical-align: top;\n",
       "    }\n",
       "\n",
       "    .dataframe thead th {\n",
       "        text-align: right;\n",
       "    }\n",
       "</style>\n",
       "<table border=\"1\" class=\"dataframe\">\n",
       "  <thead>\n",
       "    <tr style=\"text-align: right;\">\n",
       "      <th></th>\n",
       "      <th>sum_sq</th>\n",
       "      <th>df</th>\n",
       "      <th>F</th>\n",
       "      <th>PR(&gt;F)</th>\n",
       "    </tr>\n",
       "  </thead>\n",
       "  <tbody>\n",
       "    <tr>\n",
       "      <th>C(Gender)</th>\n",
       "      <td>20.166667</td>\n",
       "      <td>1.0</td>\n",
       "      <td>9.810811</td>\n",
       "      <td>5.758440e-03</td>\n",
       "    </tr>\n",
       "    <tr>\n",
       "      <th>C(Noise)</th>\n",
       "      <td>200.333333</td>\n",
       "      <td>2.0</td>\n",
       "      <td>48.729730</td>\n",
       "      <td>5.439849e-08</td>\n",
       "    </tr>\n",
       "    <tr>\n",
       "      <th>C(Gender):C(Noise)</th>\n",
       "      <td>16.333333</td>\n",
       "      <td>2.0</td>\n",
       "      <td>3.972973</td>\n",
       "      <td>3.722434e-02</td>\n",
       "    </tr>\n",
       "    <tr>\n",
       "      <th>Residual</th>\n",
       "      <td>37.000000</td>\n",
       "      <td>18.0</td>\n",
       "      <td>NaN</td>\n",
       "      <td>NaN</td>\n",
       "    </tr>\n",
       "  </tbody>\n",
       "</table>\n",
       "</div>"
      ],
      "text/plain": [
       "                        sum_sq    df          F        PR(>F)\n",
       "C(Gender)            20.166667   1.0   9.810811  5.758440e-03\n",
       "C(Noise)            200.333333   2.0  48.729730  5.439849e-08\n",
       "C(Gender):C(Noise)   16.333333   2.0   3.972973  3.722434e-02\n",
       "Residual             37.000000  18.0        NaN           NaN"
      ]
     },
     "execution_count": 39,
     "metadata": {},
     "output_type": "execute_result"
    }
   ],
   "source": [
    "model = ols('Score ~ C(Gender) * C(Noise)',data = df).fit()\n",
    "sm.stats.anova_lm(model,typ = 2)"
   ]
  },
  {
   "cell_type": "code",
   "execution_count": null,
   "id": "5ace7866",
   "metadata": {},
   "outputs": [],
   "source": [
    "st.f"
   ]
  }
 ],
 "metadata": {
  "kernelspec": {
   "display_name": "Python 3 (ipykernel)",
   "language": "python",
   "name": "python3"
  },
  "language_info": {
   "codemirror_mode": {
    "name": "ipython",
    "version": 3
   },
   "file_extension": ".py",
   "mimetype": "text/x-python",
   "name": "python",
   "nbconvert_exporter": "python",
   "pygments_lexer": "ipython3",
   "version": "3.11.7"
  }
 },
 "nbformat": 4,
 "nbformat_minor": 5
}
